{
  "nbformat": 4,
  "nbformat_minor": 0,
  "metadata": {
    "colab": {
      "name": "ID_CHEN.ipynb",
      "provenance": [],
      "authorship_tag": "ABX9TyPzBViiTtv+6LYSpY2TRfYX",
      "include_colab_link": true
    },
    "kernelspec": {
      "name": "python3",
      "display_name": "Python 3"
    },
    "language_info": {
      "name": "python"
    }
  },
  "cells": [
    {
      "cell_type": "markdown",
      "metadata": {
        "id": "view-in-github",
        "colab_type": "text"
      },
      "source": [
        "<a href=\"https://colab.research.google.com/github/Julianpucheta/OptimalControl/blob/main/ID_CHEN.ipynb\" target=\"_parent\"><img src=\"https://colab.research.google.com/assets/colab-badge.svg\" alt=\"Open In Colab\"/></a>"
      ]
    },
    {
      "cell_type": "code",
      "execution_count": 2,
      "metadata": {
        "colab": {
          "base_uri": "https://localhost:8080/"
        },
        "id": "Rhu7Xx97q0Dq",
        "outputId": "a8a660d1-ed0c-4228-a035-5cd887047b1b"
      },
      "outputs": [
        {
          "output_type": "stream",
          "name": "stdout",
          "text": [
            "Reading package lists... Done\n",
            "Building dependency tree       \n",
            "Reading state information... Done\n",
            "octave is already the newest version (4.2.2-1ubuntu1).\n",
            "The following package was automatically installed and is no longer required:\n",
            "  libnvidia-common-460\n",
            "Use 'apt autoremove' to remove it.\n",
            "0 upgraded, 0 newly installed, 0 to remove and 49 not upgraded.\n"
          ]
        }
      ],
      "source": [
        "#Instalo el Octave para Linux\n",
        "!apt install octave"
      ]
    },
    {
      "cell_type": "code",
      "source": [
        "!apt install octave-signal"
      ],
      "metadata": {
        "colab": {
          "base_uri": "https://localhost:8080/"
        },
        "id": "tAgVOG7Tq56k",
        "outputId": "4516b886-abc8-4f91-f62e-25ff3ac37d64"
      },
      "execution_count": 4,
      "outputs": [
        {
          "output_type": "stream",
          "name": "stdout",
          "text": [
            "Reading package lists... Done\n",
            "Building dependency tree       \n",
            "Reading state information... Done\n",
            "octave-signal is already the newest version (1.3.2-5).\n",
            "The following package was automatically installed and is no longer required:\n",
            "  libnvidia-common-460\n",
            "Use 'apt autoremove' to remove it.\n",
            "0 upgraded, 0 newly installed, 0 to remove and 49 not upgraded.\n"
          ]
        }
      ]
    },
    {
      "cell_type": "code",
      "source": [
        "!apt install octave-io"
      ],
      "metadata": {
        "colab": {
          "base_uri": "https://localhost:8080/"
        },
        "id": "t-_wmlCMq6Bu",
        "outputId": "6c4345c8-90be-4f19-af11-0ff1074f43c3"
      },
      "execution_count": 6,
      "outputs": [
        {
          "output_type": "stream",
          "name": "stdout",
          "text": [
            "Reading package lists... Done\n",
            "Building dependency tree       \n",
            "Reading state information... Done\n",
            "octave-io is already the newest version (2.4.10-3).\n",
            "The following package was automatically installed and is no longer required:\n",
            "  libnvidia-common-460\n",
            "Use 'apt autoremove' to remove it.\n",
            "0 upgraded, 0 newly installed, 0 to remove and 49 not upgraded.\n"
          ]
        }
      ]
    },
    {
      "cell_type": "code",
      "source": [
        "!apt install octave-control"
      ],
      "metadata": {
        "colab": {
          "base_uri": "https://localhost:8080/"
        },
        "id": "_JFoG8m8q6Id",
        "outputId": "2338193f-1cd3-4b8a-effb-e97fece09467"
      },
      "execution_count": 7,
      "outputs": [
        {
          "output_type": "stream",
          "name": "stdout",
          "text": [
            "Reading package lists... Done\n",
            "Building dependency tree       \n",
            "Reading state information... Done\n",
            "octave-control is already the newest version (3.0.0-5).\n",
            "octave-control set to manually installed.\n",
            "The following package was automatically installed and is no longer required:\n",
            "  libnvidia-common-460\n",
            "Use 'apt autoremove' to remove it.\n",
            "0 upgraded, 0 newly installed, 0 to remove and 49 not upgraded.\n"
          ]
        }
      ]
    },
    {
      "cell_type": "code",
      "source": [
        "%%writefile ID_Chen.m\n",
        "clc; clear all; close all;\n",
        "pkg load control\n",
        "pkg load signal\n",
        "pkg load io\n",
        "%{ \n",
        "--------------------------------------------------------------------------\n",
        "3- A partir de las curvas de mediciones de las variables graficadas en la \n",
        "Fig. 1-3, se requiere obtener el modelo del sistema considerando como \n",
        "entrada un escalón de 12V, como salida a la velocidad angular, y a partir \n",
        "de 0,1segundo se aplica un TL aproximado de 7,5 10-2 Nm. En el archivo \n",
        "Curvas_Medidas_Motor.xls están las mediciones, en la primer hoja los \n",
        "valores y en la segunda los nombres. Se requiere obtener el modelo \n",
        "dinámico, para establecer las constantes de la corriente.\n",
        "--------------------------------------------------------------------------\n",
        "%}\n",
        "%/content/Curvas_Medidas_Motor.xlsx\n",
        "tabla=xlsread('/content/Curvas_Medidas_Motor.xlsx');\n",
        "t_D=tabla(:,1);\n",
        "y_D=tabla(:,2);\n",
        "StepAmplitude=12; %12 V de entrada en Va\n",
        "%wr/va\n",
        "ret     =       0.0201;\n",
        "t       =       5e-4;\n",
        "[val lugar] =min(abs(t+ret-t_D));%Busco en ret+t1\n",
        "y_t=y_D(lugar);\n",
        "t=t_D(lugar)-ret; %t1\n",
        "\n",
        "[val lugar] =min(abs(2*t+ret-t_D));\n",
        "y_t2=y_D(lugar);\n",
        "t2=t_D(lugar)-ret;\n",
        "\n",
        "[val lugar] =min(abs(3*t+ret-t_D));\n",
        "y_t3=y_D(lugar);\n",
        "t3=t_D(lugar)-ret;\n",
        "% break\n",
        "% K=y(00)/U\n",
        "k       =       198.2488022/12;  \n",
        "% %CORROBORADOR DE PUNTOS\n",
        "% plot(tabla(:,1),tabla(:,2))\n",
        "% hold on\n",
        "% plot(t+ret,y_t,'o')\n",
        "% plot(t2+ret,y_t2,'o')\n",
        "% plot(t3+ret,y_t3,'o')\n",
        "\n",
        "% break\n",
        "%METODO DE CHEN\n",
        "%Funcion de la forma G(s)=K*(s+T3)/[(s+T1+1).(s+T2+1)] luego se puede\n",
        "%despreciar el cero\n",
        "k1      =       (1/StepAmplitude)*y_t/k-1;\n",
        "k2      =       (1/StepAmplitude)*y_t2/k-1; \n",
        "k3      =       (1/StepAmplitude)*y_t3/k-1; \n",
        "b       =       4*k1^3*k3-3*k1^2*k2^2-4*k2^3+k3^2+6*k1*k2*k3;\n",
        "alfa1   =       (k1*k2+k3-sqrt(b))/(2*(k1^2+k2));\n",
        "alfa2   =       (k1*k2+k3+sqrt(b))/(2*(k1^2+k2));\n",
        "beta    =       (2*k1^3+3*k1*k2+k3-sqrt(b))/(sqrt(b));\n",
        "T1      =       (-t/log(alfa1))\n",
        "T2      =       (-t/log(alfa2))\n",
        "T1=real(T1);T2=real(T2);%importa sólo la parte real\n",
        "T3      =       real(beta*(T1-T2)+T1);\n",
        "sys_va=tf(k,conv([T1 1],[T2 1]));\n",
        "dt=3e-5;\n",
        "t_s=0:dt:t_D(end-1);\n",
        "u1_Va=zeros(ret/dt,1);\n",
        "u2_Va=12*ones((.6-ret)/dt,1);%Va=12V\n",
        "u1_T=zeros(fix(.1000/dt)+1,1); %TL=0\n",
        "u2_T=ones(fix((.6-.100)/dt),1);\n",
        "u_Va=[u1_Va;u2_Va];\n",
        "% plot(t_s,u_Va);title('Tensión de entrada')\n",
        "u_T=[u1_T;u2_T];\n",
        "% plot(t_s,u_T);title('Torque de entrada')\n",
        "[y1,t1,ent]=lsim(sys_va, u_Va, t_s, [0,0]);\n",
        "% figure\n",
        "% plot(tabla(:,1),tabla(:,2))\n",
        "% hold on\n",
        "% plot(t1,y1,'k')\n",
        "% plot(t+ret,y_t,'o')\n",
        "% plot(t2+ret,y_t2,'o')\n",
        "% plot(t3+ret,y_t3,'o')\n",
        "% break\n",
        "%wr/TL\n",
        "% t_tl       =       0.1002-ret_tl;                   \n",
        "% y_t_tl     =       160.549509;\n",
        "ret_tl     =       0.1+2e-4;\n",
        "t_tl=2e-4;\n",
        "[val lugar] =min(abs(t_tl+ret_tl-t_D));\n",
        "y_t_tl=y_D(lugar);\n",
        "t_tl=t_D(lugar)-ret_tl;\n",
        "% t2_tl      =       0.1005-ret_tl;\n",
        "% y_t2_tl    =       101.4371121;\n",
        "[val lugar] =min(abs(2*t_tl+ret_tl-t_D));\n",
        "y_t2_tl=y_D(lugar);\n",
        "t2_tl=t_D(lugar)-ret_tl;\n",
        "% t3_tl      =       0.1008-ret_tl;\n",
        "% y_t3_tl    =       72.4383423;\n",
        "[val lugar] =min(abs(3*t_tl+ret_tl-t_D));\n",
        "y_t3_tl=y_D(lugar);\n",
        "t3_tl=t_D(lugar)-ret_tl;\n",
        "% 7,5 10-2\n",
        "TL=7.5e-2;% TL:Amplitud del escalon de Torque de entrada\n",
        "% K=y(00)/U\n",
        "k_tl       =       -(46.2-198)/TL;\n",
        "\n",
        "% %CORROBORADOR DE PUNTOS\n",
        "% plot(tabla(:,1),-tabla(:,2)+k)\n",
        "% hold on\n",
        "% plot(t_tl+ret_tl,y_t_tl,'o')\n",
        "% plot(t2_tl+ret_tl,y_t2_tl,'o')\n",
        "% plot(t3_tl+ret_tl,y_t3_tl,'o')\n",
        "%METODO DE CHEN\n",
        "% % % k1_tl      =      (1/TL)*y_t_tl/k_tl-1;\n",
        "% % % k2_tl      =   (1/TL)*y_t2_tl/k_tl-1; \n",
        "% % % k3_tl      =     (1/TL)*y_t3_tl/k_tl-1; \n",
        "yid_1=-(y_t_tl-198.2)\n",
        "yid_2=-(y_t2_tl-198.2)\n",
        "yid_3=-(y_t3_tl-198.2)\n",
        "% plot(tabla(:,1),tabla(:,2));hold on;%plot(t_tl,yid_1,'o',t2_tl,yid_2,'o',t3_tl,yid_3,'o')\n",
        "% plot(t_tl+ret_tl,yid_1,'o',t2_tl+ret_tl,yid_2,'o',t3_tl+ret_tl,yid_3,'o')\n",
        "\n",
        "k1_tl      =      (1/TL)*yid_1/k_tl-1;\n",
        "k2_tl      =   (1/TL)*yid_2/k_tl-1; \n",
        "k3_tl      =     (1/TL)*yid_3/k_tl-1; \n",
        "b_tl       =       4*k1_tl^3*k3_tl-3*k1_tl^2*k2_tl^2-4*k2_tl^3+k3_tl^2+6*k1_tl*k2_tl*k3_tl;\n",
        "alfa1_tl   =       (k1_tl*k2_tl+k3_tl-sqrt(b_tl))/(2*(k1_tl^2+k2_tl));\n",
        "alfa2_tl   =       (k1_tl*k2_tl+k3_tl+sqrt(b_tl))/(2*(k1_tl^2+k2_tl));\n",
        "beta_tl    =       (2*k1_tl^3+3*k1_tl*k2_tl+k3_tl-sqrt(b_tl))/(sqrt(b_tl));\n",
        "T1_tl      =       (-t_tl/log(alfa1_tl)) \n",
        "T2_tl      =       (-t_tl/log(alfa2_tl))\n",
        "T1_tl=real(T1_tl);T2_tl=real(T2_tl);\n",
        "%importa sólo la parte real\n",
        "T3_tl      =       beta_tl*(T1_tl-T2_tl)+T1_tl;\n",
        "sys_T=tf(k_tl*[T3_tl 1],conv([T1_tl 1],[T2_tl 1]));\n",
        "dt=3e-5;\n",
        "t_s=(0:dt:t_D(end-1))';\n",
        "u1_Va=zeros(ret/dt,1);\n",
        "u2_Va=12*ones((.6-ret)/dt,1);%Va=12V\n",
        "u1_T=zeros(fix(.1000/dt)+1,1); %TL=0\n",
        "u2_T=TL*ones(fix((.6-.100)/dt),1);\n",
        "u_Va=[u1_Va;u2_Va];\n",
        "% plot(t_s,u_Va);title('Tensión de entrada')\n",
        "u_T=[u1_T;u2_T];\n",
        "% plot(t_s,u_T);title('Torque de entrada')\n",
        "[y2,t2_,ent2]=lsim(sys_T, u_T, t_s,[0,0]);\n",
        "figure;hold on;\n",
        "plot(tabla(:,1),tabla(:,2))\n",
        "plot(t_s,y1-y2,'r');legend('Datos','Modelado')\n",
        "plot(t +ret,y_t,'o',t2+ret,y_t2,'o',t3+ret,y_t3,'o')\n",
        "plot(t_tl+ret_tl,y_t_tl,'o',t2_tl+ret_tl,y_t2_tl,'o',t3_tl+ret_tl,y_t3_tl,'o')\n",
        "save('ID_Chen.mat','-v7');"
      ],
      "metadata": {
        "colab": {
          "base_uri": "https://localhost:8080/"
        },
        "id": "qWUmRBYyrfJf",
        "outputId": "19204f95-0f0a-4af7-a3dd-5c726ec47d73"
      },
      "execution_count": 12,
      "outputs": [
        {
          "output_type": "stream",
          "name": "stdout",
          "text": [
            "Overwriting ID_Chen.m\n"
          ]
        }
      ]
    },
    {
      "cell_type": "code",
      "source": [
        "# -W : no window system\n",
        "!octave -W ID_Chen.m\n",
        "#\n",
        "import numpy as np\n",
        "import scipy.io\n",
        "mat = scipy.io.loadmat('/content/ID_Chen.mat')\n",
        "#%plot(t,ys,'r');title('Control realimentación de estados');xlabel('Tiempo');\n",
        "y1=mat.get('y1')\n",
        "y2=mat.get('y2')\n",
        "t_s=mat.get('t_s')\n",
        "t_D=mat.get('t_D')\n",
        "y_D=mat.get('y_D')\n",
        "#Importamos los datos que se generaron desde Octave en el archivo .mat\n",
        "#Ahora empezamos a plotear las variables\n",
        "from matplotlib import pyplot as plt\n",
        "fig, axs = plt.subplots(2)\n",
        "fig.suptitle('Identificación Chen')\n",
        "axs[0].plot(t_D, y_D, linewidth =1.0)\n",
        "axs[0].grid( True )\n",
        "axs[0].set_title('$Mediciones.$', fontsize=10);\n",
        "axs[0].set_ylabel('$\\omega_t$',rotation=0, fontsize=12) \n",
        "axs[1].plot(t_s, y1-y2, linewidth =1.0)\n",
        "axs[1].set_ylabel('$Identificada$',rotation=0, fontsize=12)\n",
        "axs[1].grid( True )\n",
        "axs[1].set_title('$Método\\n Chen.$', fontsize=10);"
      ],
      "metadata": {
        "colab": {
          "base_uri": "https://localhost:8080/",
          "height": 453
        },
        "id": "_wDJc8BErf7f",
        "outputId": "bd6d0578-281d-428f-aced-8acd51ecf571"
      },
      "execution_count": 13,
      "outputs": [
        {
          "output_type": "stream",
          "name": "stdout",
          "text": [
            "Detected XLS interfaces: OpenJDK 64-Bit Server VM warning: Archived non-system classes are disabled because the java.system.class.loader property is specified (value = \"org.octave.OctClassLoader\"). To use archived non-system classes, this property must be not be set\n",
            "T1 =    4.0791e-04\n",
            "T2 =  2.8211e-05 + 5.0602e-06i\n",
            "yid_1 =  85.593\n",
            "yid_2 =  109.84\n",
            "yid_3 =  126.97\n",
            "T1_tl =    4.0766e-04\n",
            "T2_tl =  3.1946e-05 + 4.3247e-05i\n"
          ]
        },
        {
          "output_type": "display_data",
          "data": {
            "text/plain": [
              "<Figure size 432x288 with 2 Axes>"
            ],
            "image/png": "[encoded data removed]"
          },
          "metadata": {
            "needs_background": "light"
          }
        }
      ]
    }
  ]
}